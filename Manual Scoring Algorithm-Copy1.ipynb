{
 "cells": [
  {
   "cell_type": "code",
   "execution_count": 1,
   "metadata": {},
   "outputs": [],
   "source": [
    "import pandas as pd \n",
    "import numpy as np"
   ]
  },
  {
   "cell_type": "code",
   "execution_count": 2,
   "metadata": {},
   "outputs": [],
   "source": [
    "#Choix des coefficients\n",
    "\n",
    "coeff_entité = 0.1\n",
    "coeff_délai = 1\n",
    "coeff_consultant = 2\n",
    "coeff_langue = 1.5\n",
    "coeff_salaire = 1\n",
    "coeff_distance = 1"
   ]
  },
  {
   "cell_type": "code",
   "execution_count": 3,
   "metadata": {},
   "outputs": [
    {
     "data": {
      "text/html": [
       "<div>\n",
       "<style scoped>\n",
       "    .dataframe tbody tr th:only-of-type {\n",
       "        vertical-align: middle;\n",
       "    }\n",
       "\n",
       "    .dataframe tbody tr th {\n",
       "        vertical-align: top;\n",
       "    }\n",
       "\n",
       "    .dataframe thead th {\n",
       "        text-align: right;\n",
       "    }\n",
       "</style>\n",
       "<table border=\"1\" class=\"dataframe\">\n",
       "  <thead>\n",
       "    <tr style=\"text-align: right;\">\n",
       "      <th></th>\n",
       "      <th>Poste</th>\n",
       "      <th>Lieu</th>\n",
       "      <th>Experience</th>\n",
       "      <th>Entité</th>\n",
       "      <th>Délai</th>\n",
       "      <th>Nb_Consultant</th>\n",
       "      <th>Salaire</th>\n",
       "      <th>Compétence</th>\n",
       "    </tr>\n",
       "  </thead>\n",
       "  <tbody>\n",
       "    <tr>\n",
       "      <th>0</th>\n",
       "      <td>DATA</td>\n",
       "      <td>Quai Saint-Exupéry, 92100 Paris</td>\n",
       "      <td>1.0</td>\n",
       "      <td>Microsoft</td>\n",
       "      <td>16.0</td>\n",
       "      <td>1.0</td>\n",
       "      <td>3000.0</td>\n",
       "      <td>SCALA;HADOOP;PYTHON;AZURE;ELK</td>\n",
       "    </tr>\n",
       "    <tr>\n",
       "      <th>1</th>\n",
       "      <td>JAVA</td>\n",
       "      <td>3 Boulevard Ney, 75018 Paris</td>\n",
       "      <td>5.0</td>\n",
       "      <td>Amazon</td>\n",
       "      <td>4.0</td>\n",
       "      <td>4.0</td>\n",
       "      <td>4500.0</td>\n",
       "      <td>JAVA;C++;PYTHON;AWS;SQL;JAVASCRIPT;HIBERNATE</td>\n",
       "    </tr>\n",
       "    <tr>\n",
       "      <th>2</th>\n",
       "      <td>RH</td>\n",
       "      <td>8 Rue de Londres, 75009 Paris</td>\n",
       "      <td>3.0</td>\n",
       "      <td>Google</td>\n",
       "      <td>7.0</td>\n",
       "      <td>7.0</td>\n",
       "      <td>2700.0</td>\n",
       "      <td>OFFICE365;ELK;HADOOP</td>\n",
       "    </tr>\n",
       "    <tr>\n",
       "      <th>3</th>\n",
       "      <td>CLOUD</td>\n",
       "      <td>6 Rue Ménars, 75002 Paris</td>\n",
       "      <td>0.0</td>\n",
       "      <td>Alliexpress</td>\n",
       "      <td>31.0</td>\n",
       "      <td>0.0</td>\n",
       "      <td>2500.0</td>\n",
       "      <td>SPARK;HTML;DJANGO;FLASK</td>\n",
       "    </tr>\n",
       "    <tr>\n",
       "      <th>4</th>\n",
       "      <td>UNIX</td>\n",
       "      <td>12 Avenue Pierre Mendès-France, 75013 Paris</td>\n",
       "      <td>10.0</td>\n",
       "      <td>Carrefour</td>\n",
       "      <td>7.0</td>\n",
       "      <td>11.0</td>\n",
       "      <td>2300.0</td>\n",
       "      <td>JAVASCRIPT;LINUX</td>\n",
       "    </tr>\n",
       "    <tr>\n",
       "      <th>5</th>\n",
       "      <td>NaN</td>\n",
       "      <td>78 rue Olivier de Serres - 75015 Paris 15e arr...</td>\n",
       "      <td>NaN</td>\n",
       "      <td>Orange</td>\n",
       "      <td>NaN</td>\n",
       "      <td>NaN</td>\n",
       "      <td>NaN</td>\n",
       "      <td>NaN</td>\n",
       "    </tr>\n",
       "  </tbody>\n",
       "</table>\n",
       "</div>"
      ],
      "text/plain": [
       "   Poste                                               Lieu  Experience  \\\n",
       "0   DATA                    Quai Saint-Exupéry, 92100 Paris         1.0   \n",
       "1   JAVA                       3 Boulevard Ney, 75018 Paris         5.0   \n",
       "2     RH                      8 Rue de Londres, 75009 Paris         3.0   \n",
       "3  CLOUD                          6 Rue Ménars, 75002 Paris         0.0   \n",
       "4   UNIX        12 Avenue Pierre Mendès-France, 75013 Paris        10.0   \n",
       "5    NaN  78 rue Olivier de Serres - 75015 Paris 15e arr...         NaN   \n",
       "\n",
       "        Entité  Délai  Nb_Consultant  Salaire  \\\n",
       "0    Microsoft   16.0            1.0   3000.0   \n",
       "1       Amazon    4.0            4.0   4500.0   \n",
       "2       Google    7.0            7.0   2700.0   \n",
       "3  Alliexpress   31.0            0.0   2500.0   \n",
       "4    Carrefour    7.0           11.0   2300.0   \n",
       "5       Orange    NaN            NaN      NaN   \n",
       "\n",
       "                                     Compétence  \n",
       "0                 SCALA;HADOOP;PYTHON;AZURE;ELK  \n",
       "1  JAVA;C++;PYTHON;AWS;SQL;JAVASCRIPT;HIBERNATE  \n",
       "2                          OFFICE365;ELK;HADOOP  \n",
       "3                       SPARK;HTML;DJANGO;FLASK  \n",
       "4                              JAVASCRIPT;LINUX  \n",
       "5                                           NaN  "
      ]
     },
     "execution_count": 3,
     "metadata": {},
     "output_type": "execute_result"
    }
   ],
   "source": [
    "df = pd.read_excel(\"Appel d'offre.xlsx\")\n",
    "df"
   ]
  },
  {
   "cell_type": "code",
   "execution_count": 4,
   "metadata": {},
   "outputs": [],
   "source": [
    "lang = df['Compétence'].str.get_dummies(sep=';')\n",
    "df = df.drop('Compétence',axis=1)"
   ]
  },
  {
   "cell_type": "code",
   "execution_count": 5,
   "metadata": {},
   "outputs": [],
   "source": [
    "df['Entité']= df['Entité'].apply(lambda x : x.upper())"
   ]
  },
  {
   "cell_type": "code",
   "execution_count": 6,
   "metadata": {},
   "outputs": [
    {
     "data": {
      "text/html": [
       "<div>\n",
       "<style scoped>\n",
       "    .dataframe tbody tr th:only-of-type {\n",
       "        vertical-align: middle;\n",
       "    }\n",
       "\n",
       "    .dataframe tbody tr th {\n",
       "        vertical-align: top;\n",
       "    }\n",
       "\n",
       "    .dataframe thead th {\n",
       "        text-align: right;\n",
       "    }\n",
       "</style>\n",
       "<table border=\"1\" class=\"dataframe\">\n",
       "  <thead>\n",
       "    <tr style=\"text-align: right;\">\n",
       "      <th></th>\n",
       "      <th>Valeur</th>\n",
       "      <th>Entité</th>\n",
       "    </tr>\n",
       "  </thead>\n",
       "  <tbody>\n",
       "    <tr>\n",
       "      <th>0</th>\n",
       "      <td>99</td>\n",
       "      <td>MICROSOFT</td>\n",
       "    </tr>\n",
       "    <tr>\n",
       "      <th>19</th>\n",
       "      <td>80</td>\n",
       "      <td>GOOGLE</td>\n",
       "    </tr>\n",
       "  </tbody>\n",
       "</table>\n",
       "</div>"
      ],
      "text/plain": [
       "    Valeur     Entité\n",
       "0       99  MICROSOFT\n",
       "19      80     GOOGLE"
      ]
     },
     "execution_count": 6,
     "metadata": {},
     "output_type": "execute_result"
    }
   ],
   "source": [
    "companies = pd.read_csv('companies_ranking.csv')\n",
    "companies['Entité']= companies['Entité'].apply(lambda x : x.upper())\n",
    "mask = []\n",
    "for i in range(len(df)):\n",
    "    if df.iloc[i]['Entité'] in companies.Entité.values:\n",
    "        mask.append(df.iloc[i]['Entité'])\n",
    "        #pd.concat(df.iloc[i],df[df['Entité']==df.iloc[i]['Entité']])\n",
    "        \n",
    "companies = companies.loc[companies['Entité'].isin(mask)]\n",
    "companies"
   ]
  },
  {
   "cell_type": "code",
   "execution_count": 30,
   "metadata": {},
   "outputs": [],
   "source": [
    "CAC40 = pd.read_csv('preprocessed_CAC40.csv',sep=',')\n",
    "CAC40 = CAC40.groupby('Name').sum('Volume').reset_index()\n",
    "CAC40.rename(columns = {'Unnamed: 0' : 'Valeur', 'Name' : 'Entité'},inplace = True)\n",
    "CAC40 = CAC40.sort_values('Valeur', ascending = False)\n",
    "CAC40 = CAC40[['Entité']]\n",
    "CAC40['Entité']= CAC40['Entité'].apply(lambda x : x.upper())\n",
    "CAC40.reset_index(inplace = True)\n",
    "CAC40.rename(columns = {'index' : 'Valeur'},inplace = True)"
   ]
  },
  {
   "cell_type": "code",
   "execution_count": 33,
   "metadata": {},
   "outputs": [
    {
     "data": {
      "text/html": [
       "<div>\n",
       "<style scoped>\n",
       "    .dataframe tbody tr th:only-of-type {\n",
       "        vertical-align: middle;\n",
       "    }\n",
       "\n",
       "    .dataframe tbody tr th {\n",
       "        vertical-align: top;\n",
       "    }\n",
       "\n",
       "    .dataframe thead th {\n",
       "        text-align: right;\n",
       "    }\n",
       "</style>\n",
       "<table border=\"1\" class=\"dataframe\">\n",
       "  <thead>\n",
       "    <tr style=\"text-align: right;\">\n",
       "      <th></th>\n",
       "      <th>Valeur</th>\n",
       "      <th>Entité</th>\n",
       "    </tr>\n",
       "  </thead>\n",
       "  <tbody>\n",
       "    <tr>\n",
       "      <th>17</th>\n",
       "      <td>20</td>\n",
       "      <td>ORANGE</td>\n",
       "    </tr>\n",
       "  </tbody>\n",
       "</table>\n",
       "</div>"
      ],
      "text/plain": [
       "    Valeur  Entité\n",
       "17      20  ORANGE"
      ]
     },
     "execution_count": 33,
     "metadata": {},
     "output_type": "execute_result"
    }
   ],
   "source": [
    "for i in range(len(df)):\n",
    "    if df.iloc[i]['Entité'] in CAC40.Entité.values:\n",
    "        mask.append(df.iloc[i]['Entité'])\n",
    "        #pd.concat(df.iloc[i],df[df['Entité']==df.iloc[i]['Entité']])\n",
    "        \n",
    "CAC40 = CAC40.loc[CAC40['Entité'].isin(mask)]\n",
    "CAC40"
   ]
  },
  {
   "cell_type": "code",
   "execution_count": 34,
   "metadata": {},
   "outputs": [
    {
     "data": {
      "text/plain": [
       "['MICROSOFT', 'GOOGLE', 'ORANGE', 'ORANGE', 'ORANGE', 'ORANGE']"
      ]
     },
     "execution_count": 34,
     "metadata": {},
     "output_type": "execute_result"
    }
   ],
   "source": [
    "mask"
   ]
  },
  {
   "cell_type": "code",
   "execution_count": 11,
   "metadata": {},
   "outputs": [
    {
     "data": {
      "text/plain": [
       "array(['VIVENDI', 'VINCI', 'VEOLIA ENVIRONNEMENT', 'UNIBAIL-RODAMCO',\n",
       "       'TOTAL', 'STMICROELECTRONICS', 'SODEXO',\n",
       "       'SOCIÉTÉ GÉNÉRALE (SOCIETE GENERALE', 'SCHNEIDER ELECTRIC',\n",
       "       'SANOFI', 'SAINT-GOBAIN', 'SAFRAN', 'RENAULT', 'PUBLICIS',\n",
       "       'PEUGEOT', 'PERNOD RICARD', 'WORLDLINE SA', 'ORANGE',\n",
       "       'MICHELIN (COMPAGNIE GÉNÉRALE D ETABLISSEMENTS MICHELIN SCPA',\n",
       "       'LVMH MOET HENNESSY LOUIS VUITTON', 'LORÉAL', 'LEGRAND', 'KERING',\n",
       "       'HERMÈS (HERMES INTERNATIONAL', 'ESSILORLUXOTTICA',\n",
       "       'ENGIE (EX GDF SUEZ', 'DASSAULT SYSTÈMES', 'DANONE',\n",
       "       'CRÉDIT AGRICOLE', 'CAP GEMINI', 'BOUYGUES', 'BNP PARIBAS', 'AXA',\n",
       "       'ATOS', 'ARCELORMITTAL', 'AIRBUS ', 'AIR LIQUIDE', 'ACCOR'],\n",
       "      dtype=object)"
      ]
     },
     "execution_count": 11,
     "metadata": {},
     "output_type": "execute_result"
    }
   ],
   "source": [
    "CAC40.Entité.values"
   ]
  },
  {
   "cell_type": "code",
   "execution_count": 9,
   "metadata": {
    "scrolled": true
   },
   "outputs": [
    {
     "name": "stderr",
     "output_type": "stream",
     "text": [
      "C:\\Users\\Utilisateur\\Anaconda3\\lib\\site-packages\\ipykernel_launcher.py:3: SettingWithCopyWarning: \n",
      "A value is trying to be set on a copy of a slice from a DataFrame\n",
      "\n",
      "See the caveats in the documentation: https://pandas.pydata.org/pandas-docs/stable/user_guide/indexing.html#returning-a-view-versus-a-copy\n",
      "  This is separate from the ipykernel package so we can avoid doing imports until\n",
      "C:\\Users\\Utilisateur\\Anaconda3\\lib\\site-packages\\ipykernel_launcher.py:7: SettingWithCopyWarning: \n",
      "A value is trying to be set on a copy of a slice from a DataFrame\n",
      "\n",
      "See the caveats in the documentation: https://pandas.pydata.org/pandas-docs/stable/user_guide/indexing.html#returning-a-view-versus-a-copy\n",
      "  import sys\n"
     ]
    },
    {
     "ename": "TypeError",
     "evalue": "only size-1 arrays can be converted to Python scalars",
     "output_type": "error",
     "traceback": [
      "\u001b[1;31m---------------------------------------------------------------------------\u001b[0m",
      "\u001b[1;31mTypeError\u001b[0m                                 Traceback (most recent call last)",
      "\u001b[1;32m<ipython-input-9-f424ef58ba32>\u001b[0m in \u001b[0;36m<module>\u001b[1;34m\u001b[0m\n\u001b[0;32m      3\u001b[0m         \u001b[0mdf\u001b[0m\u001b[1;33m[\u001b[0m\u001b[1;34m'Entité'\u001b[0m\u001b[1;33m]\u001b[0m\u001b[1;33m[\u001b[0m\u001b[0mi\u001b[0m\u001b[1;33m]\u001b[0m \u001b[1;33m=\u001b[0m \u001b[0mint\u001b[0m\u001b[1;33m(\u001b[0m\u001b[0mcompanies\u001b[0m\u001b[1;33m.\u001b[0m\u001b[0mloc\u001b[0m\u001b[1;33m[\u001b[0m\u001b[0mcompanies\u001b[0m\u001b[1;33m[\u001b[0m\u001b[1;34m'Entité'\u001b[0m\u001b[1;33m]\u001b[0m\u001b[1;33m==\u001b[0m\u001b[0mdf\u001b[0m\u001b[1;33m.\u001b[0m\u001b[0miloc\u001b[0m\u001b[1;33m[\u001b[0m\u001b[0mi\u001b[0m\u001b[1;33m]\u001b[0m\u001b[1;33m[\u001b[0m\u001b[1;34m'Entité'\u001b[0m\u001b[1;33m]\u001b[0m\u001b[1;33m]\u001b[0m\u001b[1;33m[\u001b[0m\u001b[1;34m'Valeur'\u001b[0m\u001b[1;33m]\u001b[0m\u001b[1;33m.\u001b[0m\u001b[0mvalues\u001b[0m\u001b[1;33m)\u001b[0m\u001b[1;33m\u001b[0m\u001b[1;33m\u001b[0m\u001b[0m\n\u001b[0;32m      4\u001b[0m     \u001b[1;32melif\u001b[0m \u001b[0mdf\u001b[0m\u001b[1;33m.\u001b[0m\u001b[0miloc\u001b[0m\u001b[1;33m[\u001b[0m\u001b[0mi\u001b[0m\u001b[1;33m]\u001b[0m\u001b[1;33m[\u001b[0m\u001b[1;34m'Entité'\u001b[0m\u001b[1;33m]\u001b[0m \u001b[1;32min\u001b[0m \u001b[0mCAC40\u001b[0m\u001b[1;33m.\u001b[0m\u001b[0mEntité\u001b[0m\u001b[1;33m.\u001b[0m\u001b[0mvalues\u001b[0m\u001b[1;33m:\u001b[0m\u001b[1;33m\u001b[0m\u001b[1;33m\u001b[0m\u001b[0m\n\u001b[1;32m----> 5\u001b[1;33m         \u001b[0mdf\u001b[0m\u001b[1;33m[\u001b[0m\u001b[1;34m'Entité'\u001b[0m\u001b[1;33m]\u001b[0m\u001b[1;33m[\u001b[0m\u001b[0mi\u001b[0m\u001b[1;33m]\u001b[0m \u001b[1;33m=\u001b[0m \u001b[0mint\u001b[0m\u001b[1;33m(\u001b[0m\u001b[0mcompanies\u001b[0m\u001b[1;33m.\u001b[0m\u001b[0mloc\u001b[0m\u001b[1;33m[\u001b[0m\u001b[0mcompanies\u001b[0m\u001b[1;33m[\u001b[0m\u001b[1;34m'Entité'\u001b[0m\u001b[1;33m]\u001b[0m\u001b[1;33m==\u001b[0m\u001b[0mdf\u001b[0m\u001b[1;33m.\u001b[0m\u001b[0miloc\u001b[0m\u001b[1;33m[\u001b[0m\u001b[0mi\u001b[0m\u001b[1;33m]\u001b[0m\u001b[1;33m[\u001b[0m\u001b[1;34m'Entité'\u001b[0m\u001b[1;33m]\u001b[0m\u001b[1;33m]\u001b[0m\u001b[1;33m[\u001b[0m\u001b[1;34m'Valeur'\u001b[0m\u001b[1;33m]\u001b[0m\u001b[1;33m.\u001b[0m\u001b[0mvalues\u001b[0m\u001b[1;33m)\u001b[0m\u001b[1;33m\u001b[0m\u001b[1;33m\u001b[0m\u001b[0m\n\u001b[0m\u001b[0;32m      6\u001b[0m     \u001b[1;32melse\u001b[0m \u001b[1;33m:\u001b[0m\u001b[1;33m\u001b[0m\u001b[1;33m\u001b[0m\u001b[0m\n\u001b[0;32m      7\u001b[0m         \u001b[0mdf\u001b[0m\u001b[1;33m[\u001b[0m\u001b[1;34m'Entité'\u001b[0m\u001b[1;33m]\u001b[0m\u001b[1;33m[\u001b[0m\u001b[0mi\u001b[0m\u001b[1;33m]\u001b[0m \u001b[1;33m=\u001b[0m \u001b[1;36m0\u001b[0m\u001b[1;33m\u001b[0m\u001b[1;33m\u001b[0m\u001b[0m\n",
      "\u001b[1;31mTypeError\u001b[0m: only size-1 arrays can be converted to Python scalars"
     ]
    }
   ],
   "source": [
    "for i in range(len(df)):\n",
    "    if df.iloc[i]['Entité'] in companies.Entité.values:\n",
    "        df['Entité'][i] = int(companies.loc[companies['Entité']==df.iloc[i]['Entité']]['Valeur'].values)\n",
    "    elif df.iloc[i]['Entité'] in CAC40.Entité.values:\n",
    "        df['Entité'][i] = int(companies.loc[companies['Entité']==df.iloc[i]['Entité']]['Valeur'].values)\n",
    "    else :\n",
    "        df['Entité'][i] = 0\n",
    "        \n"
   ]
  },
  {
   "cell_type": "code",
   "execution_count": null,
   "metadata": {},
   "outputs": [],
   "source": [
    "df['Entité']"
   ]
  },
  {
   "cell_type": "code",
   "execution_count": null,
   "metadata": {},
   "outputs": [],
   "source": [
    "def con_Scoring(x):\n",
    "    if (x > 10) : \n",
    "        x = 1\n",
    "    elif (x > 5) :\n",
    "        x = 0.66 \n",
    "    elif (x > 0) :\n",
    "        x = 0.33\n",
    "    else :\n",
    "        x = 0\n",
    "    return x\n",
    "\n",
    "df['Nb_Consultant'] = df['Nb_Consultant'].apply(lambda x : con_Scoring(x))\n",
    "df['Nb_Consultant']"
   ]
  },
  {
   "cell_type": "code",
   "execution_count": null,
   "metadata": {},
   "outputs": [],
   "source": [
    "def exp_Scoring(x):\n",
    "    if (x > 10) : \n",
    "        x = 1\n",
    "    elif (x > 5) :\n",
    "        x = 0.75\n",
    "    elif (x > 2) :\n",
    "        x = 0.5 \n",
    "    elif (x > 0) :\n",
    "        x = 0.25\n",
    "    else :\n",
    "        x = 0\n",
    "    return x\n",
    "\n",
    "df['Experience'] = df['Experience'].apply(lambda x : exp_Scoring(x))\n",
    "df['Experience']"
   ]
  },
  {
   "cell_type": "code",
   "execution_count": null,
   "metadata": {},
   "outputs": [],
   "source": [
    "def sal_Scoring(x):\n",
    "    if (x > 5000) : \n",
    "        x = 1\n",
    "    elif (x > 3500) :\n",
    "        x = 0.66\n",
    "    elif (x > 2000) :\n",
    "        x = 0.33\n",
    "    else :\n",
    "        x = 0\n",
    "    return x\n",
    "\n",
    "df['Salaire'] = df['Salaire'].apply(lambda x : sal_Scoring(x))\n",
    "df['Salaire']"
   ]
  },
  {
   "cell_type": "code",
   "execution_count": null,
   "metadata": {},
   "outputs": [],
   "source": [
    "poste = df[['Poste']]\n",
    "df.drop('Poste',axis=1,inplace=True)\n",
    "\n",
    "Lieu = df[['Lieu']]\n",
    "df.drop('Lieu',axis=1,inplace=True)"
   ]
  },
  {
   "cell_type": "code",
   "execution_count": null,
   "metadata": {
    "scrolled": false
   },
   "outputs": [],
   "source": [
    "normalized_df=(df-df.min())/(df.max()-df.min())\n",
    "normalized_df\n",
    "\n",
    "df = poste.join(normalized_df)"
   ]
  },
  {
   "cell_type": "code",
   "execution_count": null,
   "metadata": {},
   "outputs": [],
   "source": [
    "comp_E = []\n",
    "comp_NE = []\n",
    "\n",
    "\n",
    "data_comp_E = ['PYTHON','R', 'SCALA','C++','HADOOP','SPARK','JAVASCRIPT','DOCKER']\n",
    "data_comp_NE = ['HIVE','HBASE','MESOS','COUCHBASE', 'ELK','KUBERNETES','SQL']\n",
    "\n",
    "java_comp_E = ['JAVA', 'J2EE', 'SPRING', 'SPRING BOOT', 'REST']\n",
    "java_comp_NE = ['HIBERNATE', 'GROOVY', 'GRAILS', 'ANGULAR', 'IAAS', 'AWS', 'ELK']\n",
    "\n",
    "devops_comp_E = ['IAC','PACKER', 'ANSIBLE', 'SALTSTACK', 'PUPPET', 'CHEF','DOCKER','RANCHEROS','PYTHON','BASH','SHELL']\n",
    "devops_comp_NE = ['JENKINS','Gitlab-CI', 'Travis-CI', 'XL-Deploy','KUBERNETES','AWS']\n"
   ]
  },
  {
   "cell_type": "code",
   "execution_count": null,
   "metadata": {},
   "outputs": [],
   "source": [
    "def lang_scoring(i,e,ne):\n",
    "    for x in lang:\n",
    "        \n",
    "            if x in e:\n",
    "                lang.iloc[i][x] = lang.iloc[i][x]*2\n",
    "            elif x in ne:\n",
    "                lang.iloc[i][x] = lang.iloc[i][x]*1\n",
    "            else :\n",
    "                lang.iloc[i][x] = 0"
   ]
  },
  {
   "cell_type": "code",
   "execution_count": null,
   "metadata": {},
   "outputs": [],
   "source": [
    "for i in range(0,len(df)):\n",
    "    if df.iloc[i]['Poste'] == 'DATA':\n",
    "        lang_scoring(i,data_comp_E,data_comp_NE)\n",
    "    elif df.iloc[i]['Poste'] == 'JAVA':\n",
    "        lang_scoring(i,java_comp_E,java_comp_NE)\n",
    "    elif df.iloc[i]['Poste'] == 'DEVOPS':\n",
    "        lang_scoring(i,devops_comp_E,devops_comp_NE)\n",
    "    else :\n",
    "        lang_scoring(i,comp_E,comp_NE)"
   ]
  },
  {
   "cell_type": "code",
   "execution_count": null,
   "metadata": {},
   "outputs": [],
   "source": [
    "lang['lang_Score'] = lang.sum(axis=1)\n",
    "lang"
   ]
  },
  {
   "cell_type": "code",
   "execution_count": null,
   "metadata": {},
   "outputs": [],
   "source": [
    "Score = lang['lang_Score']\n",
    "Score =(Score-Score.min())/(Score.max()-Score.min())"
   ]
  },
  {
   "cell_type": "code",
   "execution_count": null,
   "metadata": {
    "scrolled": true
   },
   "outputs": [],
   "source": [
    "normalized_df = normalized_df.join(Score)\n",
    "normalized_df"
   ]
  },
  {
   "cell_type": "code",
   "execution_count": null,
   "metadata": {},
   "outputs": [],
   "source": [
    "import requests, json\n",
    "import urllib.parse\n",
    "from math import pi,sqrt,sin,cos,atan2\n",
    "\n",
    "api_url = \"https://api-adresse.data.gouv.fr/search/?q=\"\n",
    "\n",
    "def get_add(x):\n",
    "    adr = x\n",
    "    r = requests.get(api_url + urllib.parse.quote(adr))\n",
    "    data = json.loads(r.content)\n",
    "    \n",
    "    return data.get('features')[0].get(\"geometry\").get('coordinates')\n",
    "\n",
    "Lieu['coord'] = Lieu['Lieu'].apply(lambda x : get_add(x))"
   ]
  },
  {
   "cell_type": "code",
   "execution_count": null,
   "metadata": {},
   "outputs": [],
   "source": [
    "add_op = '29 Rue des Sablons, 75116 Paris'\n",
    "\n",
    "add_op = get_add(add_op)\n",
    "lat_op = add_op[1]\n",
    "lon_op = add_op[0]\n",
    "\n",
    "from math import sin, cos, acos, pi\n",
    " \n",
    "def distanceGPS(longB, latB):\n",
    "    \n",
    "    degree_to_rad = float(pi / 180.0)\n",
    "    \n",
    "    d_lat = (latB - lat_op) * degree_to_rad\n",
    "    d_long = (longB - lon_op) * degree_to_rad\n",
    "    a = pow(sin(d_lat / 2), 2) + cos(lat_op * degree_to_rad) * cos(latB * degree_to_rad) * pow(sin(d_long / 2), 2)\n",
    "    c = 2 * atan2(sqrt(a), sqrt(1 - a))\n",
    "    km = 6367 * c\n",
    "    return km\n",
    " \n",
    "Lieu['distance'] = Lieu['coord'].apply(lambda x : distanceGPS(x[0],x[1]))"
   ]
  },
  {
   "cell_type": "code",
   "execution_count": null,
   "metadata": {},
   "outputs": [],
   "source": [
    "def dist_score(x):\n",
    "    if (x > 30) : \n",
    "        x = 0.33\n",
    "    elif (x > 15) :\n",
    "        x = 0.66 \n",
    "    elif (x <= 15) :\n",
    "        x = 1\n",
    "    else :\n",
    "        x = 0\n",
    "    return x\n",
    "\n",
    "\n",
    "Lieu['dist_score'] = Lieu['distance'].apply(lambda x : dist_score(x))\n",
    "dist_score = Lieu[['dist_score']]\n",
    "normalized_df = normalized_df.join(dist_score)"
   ]
  },
  {
   "cell_type": "code",
   "execution_count": null,
   "metadata": {},
   "outputs": [],
   "source": [
    "def Exp_coeff(x):\n",
    "    x = x*coeff_experience\n",
    "    return x    \n",
    "def En_coeff(x):\n",
    "    x = x*coeff_entité\n",
    "    return x\n",
    "def Del_coeff(x):\n",
    "    x= x*coeff_délai\n",
    "    return x\n",
    "def Con_coeff(x):\n",
    "    x= x*coeff_consultant\n",
    "    return x\n",
    "def Sal_coeff(x):\n",
    "    x = x*coeff_salaire\n",
    "    return x\n",
    "def Lang_coeff(x):\n",
    "    x = x*coeff_langue\n",
    "    return x\n",
    "def Dist_coeff(x):\n",
    "    x = x*coeff_distance\n",
    "    return x\n",
    "\n",
    "def get_score(x):\n",
    "    x['Entité'] = x['Entité'].apply(lambda x : En_coeff(x))\n",
    "    x['Nb_Consultant'] =  x['Nb_Consultant'].apply(lambda x : Con_coeff(x))\n",
    "    x['lang_Score'] =  x['lang_Score'].apply(lambda x : Lang_coeff(x))\n",
    "    x['dist_score'] =  x['dist_score'].apply(lambda x : Dist_coeff(x))\n"
   ]
  },
  {
   "cell_type": "code",
   "execution_count": null,
   "metadata": {},
   "outputs": [],
   "source": [
    "get_score(normalized_df)\n",
    "normalized_df"
   ]
  },
  {
   "cell_type": "code",
   "execution_count": null,
   "metadata": {},
   "outputs": [],
   "source": [
    "normalized_df['Score'] = normalized_df.sum(axis=1)\n",
    "normalized_df.sort_values(by='Score',ascending=False)"
   ]
  }
 ],
 "metadata": {
  "kernelspec": {
   "display_name": "Python 3",
   "language": "python",
   "name": "python3"
  },
  "language_info": {
   "codemirror_mode": {
    "name": "ipython",
    "version": 3
   },
   "file_extension": ".py",
   "mimetype": "text/x-python",
   "name": "python",
   "nbconvert_exporter": "python",
   "pygments_lexer": "ipython3",
   "version": "3.7.6"
  }
 },
 "nbformat": 4,
 "nbformat_minor": 4
}
